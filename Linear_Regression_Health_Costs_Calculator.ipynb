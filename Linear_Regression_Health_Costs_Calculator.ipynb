{
  "nbformat": 4,
  "nbformat_minor": 0,
  "metadata": {
    "colab": {
      "provenance": []
    },
    "kernelspec": {
      "name": "python3",
      "display_name": "Python 3"
    },
    "language_info": {
      "name": "python"
    }
  },
  "cells": [
    {
      "cell_type": "code",
      "execution_count": 1,
      "metadata": {
        "colab": {
          "base_uri": "https://localhost:8080/"
        },
        "id": "xr233vm0Z_1k",
        "outputId": "580d534f-6866-4903-c2bb-2a1fa1cc2fc7"
      },
      "outputs": [
        {
          "output_type": "stream",
          "name": "stdout",
          "text": [
            "Predicted Health Cost: $2000.00\n"
          ]
        }
      ],
      "source": [
        "import numpy as np\n",
        "from sklearn.linear_model import LinearRegression\n",
        "\n",
        "def health_costs_calculator(age, sex, bmi, num_children, smoker):\n",
        "    # Health cost data for linear regression (Replace this with your own dataset)\n",
        "    # Here, we are using a simple synthetic dataset for demonstration purposes.\n",
        "    # In a real-world scenario, you would load your data from a CSV file or a database.\n",
        "    age_data = np.array([18, 25, 30, 35, 40, 45, 50, 55, 60, 65]).reshape(-1, 1)\n",
        "    sex_data = np.array([0, 1, 0, 1, 0, 1, 0, 1, 0, 1]).reshape(-1, 1)\n",
        "    bmi_data = np.array([18.0, 22.5, 25.0, 28.0, 30.0, 32.5, 35.0, 37.5, 40.0, 42.5]).reshape(-1, 1)\n",
        "    children_data = np.array([0, 1, 2, 3, 4, 0, 1, 2, 3, 4]).reshape(-1, 1)\n",
        "    smoker_data = np.array([0, 0, 0, 0, 0, 1, 1, 1, 1, 1]).reshape(-1, 1)\n",
        "    health_cost_data = np.array([1000, 1500, 2000, 2500, 3000, 3500, 4000, 4500, 5000, 5500])\n",
        "\n",
        "    # Prepare the feature matrix (input variables)\n",
        "    features = np.concatenate((age_data, sex_data, bmi_data, children_data, smoker_data), axis=1)\n",
        "\n",
        "    # Create a Linear Regression model\n",
        "    model = LinearRegression()\n",
        "    model.fit(features, health_cost_data)\n",
        "\n",
        "    # Prepare input data for prediction\n",
        "    input_data = np.array([age, sex, bmi, num_children, smoker]).reshape(1, -1)\n",
        "\n",
        "    # Predict the health cost using the trained model\n",
        "    predicted_cost = model.predict(input_data)\n",
        "\n",
        "    return predicted_cost[0]\n",
        "\n",
        "# Test the function with some sample input values\n",
        "age = 35\n",
        "sex = 1  # 0 for female, 1 for male\n",
        "bmi = 25.5\n",
        "num_children = 2\n",
        "smoker = 0  # 0 for non-smoker, 1 for smoker\n",
        "\n",
        "predicted_cost = health_costs_calculator(age, sex, bmi, num_children, smoker)\n",
        "print(f\"Predicted Health Cost: ${predicted_cost:.2f}\")\n"
      ]
    }
  ]
}